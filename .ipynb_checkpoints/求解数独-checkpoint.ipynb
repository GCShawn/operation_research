{
 "cells": [
  {
   "cell_type": "code",
   "execution_count": 1,
   "id": "a67b5d77",
   "metadata": {
    "ExecuteTime": {
     "end_time": "2021-10-11T13:14:04.806350Z",
     "start_time": "2021-10-11T13:14:04.759804Z"
    }
   },
   "outputs": [],
   "source": [
    "from pulp import *"
   ]
  },
  {
   "cell_type": "code",
   "execution_count": 4,
   "id": "9300136f",
   "metadata": {
    "ExecuteTime": {
     "end_time": "2021-10-11T13:14:26.596083Z",
     "start_time": "2021-10-11T13:14:26.494282Z"
    }
   },
   "outputs": [
    {
     "name": "stdout",
     "output_type": "stream",
     "text": [
      "Status: Optimal\n",
      "Solution Written to sudokuout.txt\n",
      "+-------+-------+-------+\n",
      "| 8 5 2 | 4 6 7 | 3 9 1 |\n",
      "| 3 4 9 | 2 1 5 | 6 8 7 |\n",
      "| 1 6 7 | 3 9 8 | 5 4 2 |\n",
      "+-------+-------+-------+\n",
      "| 2 7 5 | 6 4 9 | 8 1 3 |\n",
      "| 4 1 8 | 5 3 2 | 9 7 6 |\n",
      "| 9 3 6 | 8 7 1 | 4 2 5 |\n",
      "+-------+-------+-------+\n",
      "| 5 8 3 | 7 2 4 | 1 6 9 |\n",
      "| 6 2 1 | 9 8 3 | 7 5 4 |\n",
      "| 7 9 4 | 1 5 6 | 2 3 8 |\n",
      "+-------+-------+-------+\n"
     ]
    }
   ],
   "source": [
    "# A list of strings from \"1\" to \"9\" is created\n",
    "Sequence = [\"1\", \"2\", \"3\", \"4\", \"5\", \"6\", \"7\", \"8\", \"9\"]\n",
    "\n",
    "# The Vals, Rows and Cols sequences all follow this form\n",
    "Vals = Sequence\n",
    "Rows = Sequence\n",
    "Cols = Sequence\n",
    "\n",
    "# The boxes list is created, with the row and column index of each square in each box\n",
    "Boxes =[]\n",
    "for i in range(3):\n",
    "    for j in range(3):\n",
    "        Boxes += [[(Rows[3*i+k],Cols[3*j+l]) for k in range(3) for l in range(3)]]\n",
    "\n",
    "# The prob variable is created to contain the problem data        \n",
    "prob = LpProblem(\"Sudoku_Problem\",LpMinimize)\n",
    "\n",
    "# The problem variables are created\n",
    "choices = LpVariable.dicts(\"Choice\",(Vals,Rows,Cols),0,1,LpInteger)\n",
    "\n",
    "# The arbitrary objective function is added\n",
    "prob += 0, \"Arbitrary_Objective_Function\"\n",
    "\n",
    "# A constraint ensuring that only one value can be in each square is created\n",
    "for r in Rows:\n",
    "    for c in Cols:\n",
    "        prob += lpSum([choices[v][r][c] for v in Vals]) == 1, \"\"\n",
    "\n",
    "# The row, column and box constraints are added for each value\n",
    "for v in Vals:\n",
    "    for r in Rows:\n",
    "        prob += lpSum([choices[v][r][c] for c in Cols]) == 1,\"\"\n",
    "        \n",
    "    for c in Cols:\n",
    "        prob += lpSum([choices[v][r][c] for r in Rows]) == 1,\"\"\n",
    "\n",
    "    for b in Boxes:\n",
    "        prob += lpSum([choices[v][r][c] for (r,c) in b]) == 1,\"\"\n",
    "                        \n",
    "\n",
    "\n",
    "prob += choices[\"4\"][\"2\"][\"2\"] == 1,\"\"#4放在第二行第二列\n",
    "prob += choices[\"9\"][\"3\"][\"5\"] == 1,\"\"#9放在第三行第五列\n",
    "prob += choices[\"8\"][\"4\"][\"7\"] == 1,\"\"\n",
    "prob += choices[\"6\"][\"6\"][\"3\"] == 1,\"\"\n",
    "prob += choices[\"2\"][\"7\"][\"5\"] == 1,\"\"\n",
    "prob += choices[\"5\"][\"8\"][\"8\"] == 1,\"\"\n",
    "\n",
    "prob.writeLP(\"Sudoku.lp\")\n",
    "\n",
    "prob.solve()\n",
    "\n",
    "print(\"Status:\", LpStatus[prob.status])\n",
    "\n",
    "sudokuout = open('sudokuout.txt','w')\n",
    "\n",
    "for r in Rows:\n",
    "    if r == \"1\" or r == \"4\" or r == \"7\":\n",
    "                    sudokuout.write(\"+-------+-------+-------+\\n\")\n",
    "    for c in Cols:\n",
    "        for v in Vals:\n",
    "            if value(choices[v][r][c])==1:\n",
    "                               \n",
    "                if c == \"1\" or c == \"4\" or c ==\"7\":\n",
    "                    sudokuout.write(\"| \")\n",
    "                    \n",
    "                sudokuout.write(v + \" \")\n",
    "                \n",
    "                if c == \"9\":\n",
    "                    sudokuout.write(\"|\\n\")\n",
    "sudokuout.write(\"+-------+-------+-------+\")                    \n",
    "sudokuout.close()\n",
    "\n",
    "print(\"Solution Written to sudokuout.txt\")\n",
    "\n",
    "with open(\"sudokuout.txt\", \"r\") as f:\n",
    "    for line in f.readlines():\n",
    "        line = line.strip('\\n')  #去掉列表中每一个元素的换行符\n",
    "        print(line)"
   ]
  }
 ],
 "metadata": {
  "kernelspec": {
   "display_name": "Python 3",
   "language": "python",
   "name": "python3"
  },
  "language_info": {
   "codemirror_mode": {
    "name": "ipython",
    "version": 3
   },
   "file_extension": ".py",
   "mimetype": "text/x-python",
   "name": "python",
   "nbconvert_exporter": "python",
   "pygments_lexer": "ipython3",
   "version": "3.8.8"
  },
  "toc": {
   "base_numbering": 1,
   "nav_menu": {},
   "number_sections": true,
   "sideBar": true,
   "skip_h1_title": false,
   "title_cell": "Table of Contents",
   "title_sidebar": "Contents",
   "toc_cell": false,
   "toc_position": {},
   "toc_section_display": true,
   "toc_window_display": false
  },
  "varInspector": {
   "cols": {
    "lenName": 16,
    "lenType": 16,
    "lenVar": 40
   },
   "kernels_config": {
    "python": {
     "delete_cmd_postfix": "",
     "delete_cmd_prefix": "del ",
     "library": "var_list.py",
     "varRefreshCmd": "print(var_dic_list())"
    },
    "r": {
     "delete_cmd_postfix": ") ",
     "delete_cmd_prefix": "rm(",
     "library": "var_list.r",
     "varRefreshCmd": "cat(var_dic_list()) "
    }
   },
   "types_to_exclude": [
    "module",
    "function",
    "builtin_function_or_method",
    "instance",
    "_Feature"
   ],
   "window_display": false
  }
 },
 "nbformat": 4,
 "nbformat_minor": 5
}
