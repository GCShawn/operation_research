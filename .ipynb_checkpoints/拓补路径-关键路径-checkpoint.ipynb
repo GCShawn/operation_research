{
 "cells": [
  {
   "cell_type": "code",
   "execution_count": 1,
   "id": "1d7ff0d1",
   "metadata": {
    "ExecuteTime": {
     "end_time": "2021-11-05T14:48:38.366795Z",
     "start_time": "2021-11-05T14:48:38.352792Z"
    }
   },
   "outputs": [],
   "source": [
    "def changeNodeList(node_list, WP=False):\n",
    "    import operator\n",
    "    list_turn_into = []\n",
    "    node_record = [\"\"]\n",
    "    node_dic = {\"\": 1}\n",
    "\n",
    "    node_outflow = []\n",
    "\n",
    "    for i in node_list:\n",
    "        list_turn_into_part = []\n",
    "        if i[0] not in node_dic:\n",
    "            node_record.append(i[0])\n",
    "            node_dic[i[0]] = len(node_record)\n",
    "\n",
    "        ahead_node = i[2].split(\",\")\n",
    "\n",
    "        for j in ahead_node:\n",
    "            if j not in node_dic:\n",
    "                node_record.append(j)\n",
    "                node_dic[j] = len(node_record)\n",
    "\n",
    "            if j not in node_outflow:\n",
    "                node_outflow.append(j)\n",
    "\n",
    "            list_turn_into_part.append(node_dic[j])\n",
    "            list_turn_into_part.append(node_dic[i[0]])\n",
    "            list_turn_into_part.append(i[1])\n",
    "\n",
    "            list_turn_into_part = tuple(list_turn_into_part)\n",
    "            list_turn_into.append(list_turn_into_part)\n",
    "            list_turn_into_part = []\n",
    "\n",
    "#         list_turn_into.sort(key=operator.itemgetter(0), reverse=False)\n",
    "    node_no_out_flow = [i for i in node_record if i not in node_outflow]\n",
    "\n",
    "    node_record.append('END')\n",
    "    node_dic[\"END\"] = len(node_record)\n",
    "    for i in node_no_out_flow:\n",
    "        list_turn_into.append([node_dic[i], len(node_record), 0])\n",
    "\n",
    "    if WP == True:\n",
    "        print(\"node_no_out_flow\", end=\":\")\n",
    "        print(node_no_out_flow)\n",
    "        print(list_turn_into)\n",
    "        print(node_record)\n",
    "        print(node_dic)\n",
    "    return list_turn_into"
   ]
  },
  {
   "cell_type": "code",
   "execution_count": 2,
   "id": "d0e39e3d",
   "metadata": {
    "ExecuteTime": {
     "end_time": "2021-11-05T14:48:38.382799Z",
     "start_time": "2021-11-05T14:48:38.367795Z"
    }
   },
   "outputs": [],
   "source": [
    "def getNodeMax(node_list_origin, WP=False):\n",
    "    node_list = []\n",
    "    for i in node_list_origin:\n",
    "        node_list.append(i[0])\n",
    "        node_list.append(i[1])\n",
    "    node_max = len(set(node_list))\n",
    "\n",
    "    return node_max"
   ]
  },
  {
   "cell_type": "code",
   "execution_count": 3,
   "id": "ed823c4b",
   "metadata": {
    "ExecuteTime": {
     "end_time": "2021-11-05T14:48:38.398802Z",
     "start_time": "2021-11-05T14:48:38.383798Z"
    }
   },
   "outputs": [],
   "source": [
    "def getCriticalPath(node_list, WP=False):\n",
    "\n",
    "    import matplotlib.pyplot as plt  # 导入 Matplotlib 工具包\n",
    "    import networkx as nx  # 导入 NetworkX 工具包\n",
    "\n",
    "    if type(node_list[0][0]) == str:\n",
    "        node_list = changeNodeList(node_list, WP)\n",
    "    node_max = getNodeMax(node_list, WP)\n",
    "\n",
    "    DG = nx.DiGraph()  # 创建：空的 有向图\n",
    "    DG.add_nodes_from(range(1, node_max), VE=0, VL=0)\n",
    "    # 向图中添加多条赋权边: (node1,node2,weight)\n",
    "    DG.add_weighted_edges_from(node_list)\n",
    "    lenNodes = len(DG.nodes)  # 顶点数量 YouCans\n",
    "    topoSeq = list(nx.topological_sort(DG))  # 拓扑序列: [1, 3, 4, 2, 5, 7, 6, 8]\n",
    "\n",
    "    # --- 计算各顶点的 VE：事件最早开始时间 ---\n",
    "    VE = [0 for i in range(lenNodes)]  # 初始化 事件最早开始时间\n",
    "    for i in range(lenNodes):\n",
    "        for e in DG.in_edges(topoSeq[i]):  # 遍历顶点 topoSeq[i] 的 入边\n",
    "            VEij = DG.nodes[e[0]][\"VE\"] + \\\n",
    "                DG[e[0]][e[1]]['weight']  # 该路线的最早开始时间\n",
    "            if VEij > VE[i]:\n",
    "                VE[i] = VEij  # 该路线所需时间更长\n",
    "        DG.add_node(topoSeq[i], VE=VE[i])  # 顶点（事件）的最早开始时间\n",
    "\n",
    "    # --- 计算各顶点的 VL：事件最晚开始时间 ---\n",
    "    revSeq = list(reversed(topoSeq))  # 翻转拓扑序列，以便从终点倒推计算 VL\n",
    "    VL = [DG.nodes[revSeq[0]][\"VE\"]\n",
    "          for i in range(lenNodes)]  # 初始化 事件最晚开始时间为 VE 最大值\n",
    "    for i in range(lenNodes):\n",
    "        for e in DG.out_edges(revSeq[i]):  # 遍历顶点 revSeq[i] 的 出边\n",
    "            VLij = DG.nodes[e[1]][\"VL\"] - \\\n",
    "                DG[e[0]][e[1]]['weight']  # 该路线的最晚开始时间\n",
    "            if VLij < VL[i]:\n",
    "                VL[i] = VLij  # 该路线所需时间更长\n",
    "        DG.add_node(revSeq[i], VL=VL[i])  # 顶点（事件）的最晚开始时间\n",
    "\n",
    "    print(\"\\n顶点（事件）的最早开始时间 VE, 最晚开始时间 VL:\")\n",
    "    for n in DG.nodes:  # 遍历有向图的顶点\n",
    "        print(\"\\t事件 {}:\\tVE= {}\\tVL= {}\".format(\n",
    "            n, DG.nodes[n][\"VE\"], DG.nodes[n][\"VL\"]))\n",
    "\n",
    "    # --- 计算各条边的 EE, EL：工序最早、最晚开始时间 ---\n",
    "    cpDG = nx.DiGraph()  # 创建空的有向图, 保存关键路径\n",
    "    print(\"\\n边（工序）的最早开始时间 EE, 最晚开始时间 EL:\")\n",
    "    for e in DG.edges:  # 遍历有向图的边\n",
    "        DG[e[0]][e[1]][\"EE\"] = DG.nodes[e[0]][\"VE\"]  # 边的头顶点的 VE\n",
    "        # Wij = DG[e[0]][e[1]]['weight']\n",
    "        DG[e[0]][e[1]][\"EL\"] = DG.nodes[e[1]][\"VL\"] - \\\n",
    "            DG[e[0]][e[1]]['weight']  # 边的尾顶点的 VL 减去边的权值\n",
    "        if DG[e[0]][e[1]][\"EE\"] == DG[e[0]][e[1]][\"EL\"]:  # 如果最早、最晚开工时间相同，则为关键路径上的边\n",
    "            cpDG.add_edge(e[0], e[1], weight=DG[e[0]]\n",
    "                          [e[1]]['weight'])  # 加入 关键路径\n",
    "        print(\"\\t工序 {}:\\tEE= {}\\tEL= {}\".format(\n",
    "            e, DG[e[0]][e[1]][\"EE\"], DG[e[0]][e[1]][\"EL\"]))\n",
    "\n",
    "    lenCP = sum(cpDG[e[0]][e[1]]['weight'] for e in cpDG.edges)\n",
    "    print(\"\\n关键路径:{}\".format(cpDG.edges))  # YouCans, XUPT\n",
    "    print(\"关键路径长度:{}\".format(lenCP))\n",
    "\n",
    "#     if WP == True:\n",
    "#         pos = {1: (0, 4), 2: (5, 8), 3: (5, 4), 4: (5, 0), 5: (\n",
    "#             10, 8), 6: (10, 0), 7: (15, 4), 8: (20, 4)}  # 指定顶点位置\n",
    "#         nx.draw(DG, pos, with_labels=True, alpha=0.8)  # 绘制无向图\n",
    "#         labels = nx.get_edge_attributes(DG, 'weight')  # YouCans, XUPT\n",
    "#         nx.draw_networkx_edge_labels(\n",
    "#             DG, pos, edge_labels=labels, font_color='c')  # 显示边的权值\n",
    "#         nx.draw_networkx_edges(DG, pos, edgelist=cpDG.edges,\n",
    "#                                edge_color='r', width=4)  # 设置指定边的颜色\n",
    "#         plt.show()\n",
    "    return 1"
   ]
  },
  {
   "attachments": {
    "image.png": {
     "image/png": "[encoded data removed]"
    }
   },
   "cell_type": "markdown",
   "id": "5ee29b9b",
   "metadata": {},
   "source": [
    "![image.png](attachment:image.png)"
   ]
  },
  {
   "cell_type": "code",
   "execution_count": 4,
   "id": "25d2301e",
   "metadata": {
    "ExecuteTime": {
     "end_time": "2021-11-05T14:48:38.877911Z",
     "start_time": "2021-11-05T14:48:38.399803Z"
    }
   },
   "outputs": [
    {
     "name": "stdout",
     "output_type": "stream",
     "text": [
      "node_no_out_flow:['H', 'J', 'K']\n",
      "[(1, 2, 5), (1, 3, 10), (1, 4, 11), (3, 5, 4), (2, 6, 4), (4, 7, 15), (5, 7, 15), (3, 8, 21), (6, 8, 21), (3, 9, 35), (6, 9, 35), (3, 10, 25), (6, 10, 25), (7, 11, 15), (8, 11, 15), (10, 11, 15), (7, 12, 20), (8, 12, 20), [9, 13, 0], [11, 13, 0], [12, 13, 0]]\n",
      "['', 'A', 'B', 'C', 'D', 'E', 'F', 'G', 'H', 'I', 'J', 'K', 'END']\n",
      "{'': 1, 'A': 2, 'B': 3, 'C': 4, 'D': 5, 'E': 6, 'F': 7, 'G': 8, 'H': 9, 'I': 10, 'J': 11, 'K': 12, 'END': 13}\n",
      "\n",
      "顶点（事件）的最早开始时间 VE, 最晚开始时间 VL:\n",
      "\t事件 1:\tVE= 0\tVL= 0\n",
      "\t事件 2:\tVE= 5\tVL= 6\n",
      "\t事件 3:\tVE= 10\tVL= 10\n",
      "\t事件 4:\tVE= 11\tVL= 16\n",
      "\t事件 5:\tVE= 14\tVL= 16\n",
      "\t事件 6:\tVE= 9\tVL= 10\n",
      "\t事件 7:\tVE= 29\tVL= 31\n",
      "\t事件 8:\tVE= 31\tVL= 31\n",
      "\t事件 9:\tVE= 45\tVL= 51\n",
      "\t事件 10:\tVE= 35\tVL= 36\n",
      "\t事件 11:\tVE= 50\tVL= 51\n",
      "\t事件 12:\tVE= 51\tVL= 51\n",
      "\t事件 13:\tVE= 51\tVL= 51\n",
      "\n",
      "边（工序）的最早开始时间 EE, 最晚开始时间 EL:\n",
      "\t工序 (1, 2):\tEE= 0\tEL= 1\n",
      "\t工序 (1, 3):\tEE= 0\tEL= 0\n",
      "\t工序 (1, 4):\tEE= 0\tEL= 5\n",
      "\t工序 (2, 6):\tEE= 5\tEL= 6\n",
      "\t工序 (3, 5):\tEE= 10\tEL= 12\n",
      "\t工序 (3, 8):\tEE= 10\tEL= 10\n",
      "\t工序 (3, 9):\tEE= 10\tEL= 16\n",
      "\t工序 (3, 10):\tEE= 10\tEL= 11\n",
      "\t工序 (4, 7):\tEE= 11\tEL= 16\n",
      "\t工序 (5, 7):\tEE= 14\tEL= 16\n",
      "\t工序 (6, 8):\tEE= 9\tEL= 10\n",
      "\t工序 (6, 9):\tEE= 9\tEL= 16\n",
      "\t工序 (6, 10):\tEE= 9\tEL= 11\n",
      "\t工序 (7, 11):\tEE= 29\tEL= 36\n",
      "\t工序 (7, 12):\tEE= 29\tEL= 31\n",
      "\t工序 (8, 11):\tEE= 31\tEL= 36\n",
      "\t工序 (8, 12):\tEE= 31\tEL= 31\n",
      "\t工序 (9, 13):\tEE= 45\tEL= 51\n",
      "\t工序 (10, 11):\tEE= 35\tEL= 36\n",
      "\t工序 (11, 13):\tEE= 50\tEL= 51\n",
      "\t工序 (12, 13):\tEE= 51\tEL= 51\n",
      "\n",
      "关键路径:[(1, 3), (3, 8), (8, 12), (12, 13)]\n",
      "关键路径长度:51\n"
     ]
    },
    {
     "data": {
      "text/plain": [
       "1"
      ]
     },
     "execution_count": 4,
     "metadata": {},
     "output_type": "execute_result"
    }
   ],
   "source": [
    "node_define = [('A', 5, ''),     ('B', 10, \"\"),     (\"C\", 11, ''),\n",
    "               ('D', 4, \"B\"),     (\"E\", 4, \"A\"),     (\"F\", 15, \"C,D\"),\n",
    "               ('G', 21, \"B,E\"),     (\"H\", 35, \"B,E\"),     (\"I\", 25, \"B,E\"),\n",
    "               ('J', 15, \"F,G,I\"),\n",
    "               (\"K\", 20, \"F,G\")]\n",
    "getCriticalPath(node_define, WP=True)"
   ]
  },
  {
   "attachments": {
    "image.png": {
     "image/png": "[encoded data removed]"
    }
   },
   "cell_type": "markdown",
   "id": "2680d793",
   "metadata": {},
   "source": [
    "![image.png](attachment:image.png)"
   ]
  },
  {
   "cell_type": "code",
   "execution_count": 5,
   "id": "c1cc852d",
   "metadata": {
    "ExecuteTime": {
     "end_time": "2021-11-05T14:48:38.893046Z",
     "start_time": "2021-11-05T14:48:38.878911Z"
    }
   },
   "outputs": [
    {
     "name": "stdout",
     "output_type": "stream",
     "text": [
      "node_no_out_flow:['D']\n",
      "[(1, 2, 5), (2, 3, 5), (2, 4, 10), (3, 5, 15), (4, 5, 15), [5, 6, 0]]\n",
      "['', 'A', 'B', 'C', 'D', 'END']\n",
      "{'': 1, 'A': 2, 'B': 3, 'C': 4, 'D': 5, 'END': 6}\n",
      "\n",
      "顶点（事件）的最早开始时间 VE, 最晚开始时间 VL:\n",
      "\t事件 1:\tVE= 0\tVL= 0\n",
      "\t事件 2:\tVE= 5\tVL= 5\n",
      "\t事件 3:\tVE= 10\tVL= 15\n",
      "\t事件 4:\tVE= 15\tVL= 15\n",
      "\t事件 5:\tVE= 30\tVL= 30\n",
      "\t事件 6:\tVE= 30\tVL= 30\n",
      "\n",
      "边（工序）的最早开始时间 EE, 最晚开始时间 EL:\n",
      "\t工序 (1, 2):\tEE= 0\tEL= 0\n",
      "\t工序 (2, 3):\tEE= 5\tEL= 10\n",
      "\t工序 (2, 4):\tEE= 5\tEL= 5\n",
      "\t工序 (3, 5):\tEE= 10\tEL= 15\n",
      "\t工序 (4, 5):\tEE= 15\tEL= 15\n",
      "\t工序 (5, 6):\tEE= 30\tEL= 30\n",
      "\n",
      "关键路径:[(1, 2), (2, 4), (4, 5), (5, 6)]\n",
      "关键路径长度:30\n"
     ]
    },
    {
     "data": {
      "text/plain": [
       "1"
      ]
     },
     "execution_count": 5,
     "metadata": {},
     "output_type": "execute_result"
    }
   ],
   "source": [
    "node_define = [('A', 5, ''),('B', 5, \"A\"),(\"C\", 10, 'A'),('D', 15, \"B,C\")]\n",
    "getCriticalPath(node_define, WP=True)"
   ]
  }
 ],
 "metadata": {
  "kernelspec": {
   "display_name": "Python 3",
   "language": "python",
   "name": "python3"
  },
  "language_info": {
   "codemirror_mode": {
    "name": "ipython",
    "version": 3
   },
   "file_extension": ".py",
   "mimetype": "text/x-python",
   "name": "python",
   "nbconvert_exporter": "python",
   "pygments_lexer": "ipython3",
   "version": "3.8.8"
  },
  "toc": {
   "base_numbering": 1,
   "nav_menu": {},
   "number_sections": true,
   "sideBar": true,
   "skip_h1_title": false,
   "title_cell": "Table of Contents",
   "title_sidebar": "Contents",
   "toc_cell": false,
   "toc_position": {},
   "toc_section_display": true,
   "toc_window_display": false
  },
  "varInspector": {
   "cols": {
    "lenName": 16,
    "lenType": 16,
    "lenVar": 40
   },
   "kernels_config": {
    "python": {
     "delete_cmd_postfix": "",
     "delete_cmd_prefix": "del ",
     "library": "var_list.py",
     "varRefreshCmd": "print(var_dic_list())"
    },
    "r": {
     "delete_cmd_postfix": ") ",
     "delete_cmd_prefix": "rm(",
     "library": "var_list.r",
     "varRefreshCmd": "cat(var_dic_list()) "
    }
   },
   "types_to_exclude": [
    "module",
    "function",
    "builtin_function_or_method",
    "instance",
    "_Feature"
   ],
   "window_display": false
  }
 },
 "nbformat": 4,
 "nbformat_minor": 5
}
