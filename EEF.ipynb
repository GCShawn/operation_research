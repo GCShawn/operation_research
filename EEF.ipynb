{
 "cells": [
  {
   "cell_type": "code",
   "execution_count": 1,
   "id": "4f038d82",
   "metadata": {
    "ExecuteTime": {
     "end_time": "2021-10-04T12:08:59.715550Z",
     "start_time": "2021-10-04T12:08:59.700940Z"
    }
   },
   "outputs": [],
   "source": [
    "# fv(rate, nper, pmt, pv[, when])\tCompute the future value.\n",
    "# pv(rate, nper, pmt[, fv, when])\tCompute the present value.\n",
    "# npv(rate, values)\tReturns the NPV (Net Present Value) of a cash flow series.\n",
    "# pmt(rate, nper, pv[, fv, when])\tCompute the payment against loan principal plus interest.\n",
    "# ppmt(rate, per, nper, pv[, fv, when])\tCompute the payment against loan principal.\n",
    "# ipmt(rate, per, nper, pv[, fv, when])\tCompute the interest portion of a payment.\n",
    "# irr(values)\tReturn the Internal Rate of Return (IRR).\n",
    "# mirr(values, finance_rate, reinvest_rate)\tModified internal rate of return.\n",
    "# nper(rate, pmt, pv[, fv, when])\tCompute the number of periodic payments.\n",
    "# rate(nper, pmt, pv, fv[, when, guess, tol, …])\tCompute the rate of interest per period."
   ]
  },
  {
   "cell_type": "code",
   "execution_count": 2,
   "id": "4514f701",
   "metadata": {
    "ExecuteTime": {
     "end_time": "2021-10-06T16:47:52.902027Z",
     "start_time": "2021-10-06T16:47:52.886023Z"
    }
   },
   "outputs": [],
   "source": [
    "import numpy_financial as npf\n",
    "import numpy as np"
   ]
  },
  {
   "cell_type": "code",
   "execution_count": 5,
   "id": "0930ef3d",
   "metadata": {
    "ExecuteTime": {
     "end_time": "2021-10-06T17:26:50.203350Z",
     "start_time": "2021-10-06T17:26:50.188347Z"
    }
   },
   "outputs": [
    {
     "name": "stdout",
     "output_type": "stream",
     "text": [
      "净现值npv = 64.92675\n",
      "内部收益率IRR = nan%\n",
      "实际年化贷款利率 = nan%\n"
     ]
    }
   ],
   "source": [
    "round_num = 5\n",
    "\n",
    "rate = 0.14\n",
    "cash_flow = np.array([10.5, 14, 17.5, 21, 24.5])\n",
    "\n",
    "npv = round(npf.npv(rate, cash_flow), round_num)\n",
    "print(\"净现值npv = {}\".format(npv))\n",
    "\n",
    "irr = round(npf.irr(cash_flow), round_num)\n",
    "print(\"内部收益率IRR = {}%\".format(irr*100))\n",
    "\n",
    "# 计算年化收益率（复利公式）\n",
    "pa = round((irr+1)**12 - 1, 4)\n",
    "print(\"实际年化贷款利率 = {}%\".format(pa*100))"
   ]
  },
  {
   "cell_type": "code",
   "execution_count": 4,
   "id": "1d5edc57",
   "metadata": {
    "ExecuteTime": {
     "end_time": "2021-10-04T12:08:59.843581Z",
     "start_time": "2021-10-04T12:08:59.828576Z"
    }
   },
   "outputs": [
    {
     "name": "stdout",
     "output_type": "stream",
     "text": [
      "净现值npv = 493.28163\n",
      "内部收益率IRR = 11.822000000000001%\n",
      "实际年化贷款利率 = 282.22999999999996%\n"
     ]
    }
   ],
   "source": [
    "round_num = 5\n",
    "\n",
    "rate = 0.10\n",
    "cash_flow = np.array([-10500, 2900, 2900, 2900, 2900, 2900])\n",
    "\n",
    "npv = round(npf.npv(rate, cash_flow), round_num)\n",
    "print(\"净现值npv = {}\".format(npv))\n",
    "\n",
    "irr = round(npf.irr(cash_flow), round_num)\n",
    "print(\"内部收益率IRR = {}%\".format(irr*100))\n",
    "\n",
    "# 计算年化收益率（复利公式）\n",
    "pa = round((irr+1)**12 - 1, 4)\n",
    "print(\"实际年化贷款利率 = {}%\".format(pa*100))"
   ]
  },
  {
   "cell_type": "code",
   "execution_count": 5,
   "id": "b00e8de1",
   "metadata": {
    "ExecuteTime": {
     "end_time": "2021-10-04T12:08:59.859584Z",
     "start_time": "2021-10-04T12:08:59.844580Z"
    }
   },
   "outputs": [
    {
     "name": "stdout",
     "output_type": "stream",
     "text": [
      "净现值npv = -5836.85292\n",
      "内部收益率IRR = -1.6049999999999998%\n",
      "实际年化贷款利率 = -17.65%\n"
     ]
    }
   ],
   "source": [
    "round_num = 5\n",
    "\n",
    "rate = 0.10\n",
    "cash_flow = np.array([-21000, 4000, 4000, 4000, 4000, 4000])\n",
    "\n",
    "npv = round(npf.npv(rate, cash_flow), round_num)\n",
    "print(\"净现值npv = {}\".format(npv))\n",
    "\n",
    "irr = round(npf.irr(cash_flow), round_num)\n",
    "print(\"内部收益率IRR = {}%\".format(irr*100))\n",
    "\n",
    "# 计算年化收益率（复利公式）\n",
    "pa = round((irr+1)**12 - 1, 4)\n",
    "print(\"实际年化贷款利率 = {}%\".format(pa*100))"
   ]
  },
  {
   "cell_type": "code",
   "execution_count": 6,
   "id": "6222b3dc",
   "metadata": {
    "ExecuteTime": {
     "end_time": "2021-10-04T12:08:59.875588Z",
     "start_time": "2021-10-04T12:08:59.860584Z"
    }
   },
   "outputs": [
    {
     "name": "stdout",
     "output_type": "stream",
     "text": [
      "净现值npv = 1025.91105\n",
      "内部收益率IRR = 13.043%\n",
      "实际年化贷款利率 = 335.44%\n"
     ]
    }
   ],
   "source": [
    "round_num = 5\n",
    "\n",
    "rate = 0.10\n",
    "cash_flow = np.array([-13000, 3700, 3700, 3700, 3700, 3700])\n",
    "\n",
    "npv = round(npf.npv(rate, cash_flow), round_num)\n",
    "print(\"净现值npv = {}\".format(npv))\n",
    "\n",
    "irr = round(npf.irr(cash_flow), round_num)\n",
    "print(\"内部收益率IRR = {}%\".format(irr*100))\n",
    "\n",
    "# 计算年化收益率（复利公式）\n",
    "pa = round((irr+1)**12 - 1, 4)\n",
    "print(\"实际年化贷款利率 = {}%\".format(pa*100))"
   ]
  }
 ],
 "metadata": {
  "kernelspec": {
   "display_name": "Python 3",
   "language": "python",
   "name": "python3"
  },
  "language_info": {
   "codemirror_mode": {
    "name": "ipython",
    "version": 3
   },
   "file_extension": ".py",
   "mimetype": "text/x-python",
   "name": "python",
   "nbconvert_exporter": "python",
   "pygments_lexer": "ipython3",
   "version": "3.8.8"
  },
  "toc": {
   "base_numbering": 1,
   "nav_menu": {},
   "number_sections": true,
   "sideBar": true,
   "skip_h1_title": false,
   "title_cell": "Table of Contents",
   "title_sidebar": "Contents",
   "toc_cell": false,
   "toc_position": {},
   "toc_section_display": true,
   "toc_window_display": false
  },
  "varInspector": {
   "cols": {
    "lenName": 16,
    "lenType": 16,
    "lenVar": 40
   },
   "kernels_config": {
    "python": {
     "delete_cmd_postfix": "",
     "delete_cmd_prefix": "del ",
     "library": "var_list.py",
     "varRefreshCmd": "print(var_dic_list())"
    },
    "r": {
     "delete_cmd_postfix": ") ",
     "delete_cmd_prefix": "rm(",
     "library": "var_list.r",
     "varRefreshCmd": "cat(var_dic_list()) "
    }
   },
   "types_to_exclude": [
    "module",
    "function",
    "builtin_function_or_method",
    "instance",
    "_Feature"
   ],
   "window_display": false
  }
 },
 "nbformat": 4,
 "nbformat_minor": 5
}
