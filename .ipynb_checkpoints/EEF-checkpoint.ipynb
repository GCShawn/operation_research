{
 "cells": [
  {
   "cell_type": "code",
   "execution_count": null,
   "id": "00991bb9",
   "metadata": {},
   "outputs": [],
   "source": [
    "# fv(rate, nper, pmt, pv[, when])\tCompute the future value.\n",
    "# pv(rate, nper, pmt[, fv, when])\tCompute the present value.\n",
    "# npv(rate, values)\tReturns the NPV (Net Present Value) of a cash flow series.\n",
    "# pmt(rate, nper, pv[, fv, when])\tCompute the payment against loan principal plus interest.\n",
    "# ppmt(rate, per, nper, pv[, fv, when])\tCompute the payment against loan principal.\n",
    "# ipmt(rate, per, nper, pv[, fv, when])\tCompute the interest portion of a payment.\n",
    "# irr(values)\tReturn the Internal Rate of Return (IRR).\n",
    "# mirr(values, finance_rate, reinvest_rate)\tModified internal rate of return.\n",
    "# nper(rate, pmt, pv[, fv, when])\tCompute the number of periodic payments.\n",
    "# rate(nper, pmt, pv, fv[, when, guess, tol, …])\tCompute the rate of interest per period."
   ]
  },
  {
   "cell_type": "code",
   "execution_count": 1,
   "id": "640b198c",
   "metadata": {
    "ExecuteTime": {
     "end_time": "2021-10-03T15:59:42.008301Z",
     "start_time": "2021-10-03T15:59:41.913802Z"
    }
   },
   "outputs": [],
   "source": [
    "import numpy_financial as npf\n",
    "import numpy as np\n",
    "\n",
    "round_num = 5\n",
    "\n",
    "rate = 0.1\n",
    "cash_flow = np.array([-1200, 400, 300, 500, 500])"
   ]
  },
  {
   "cell_type": "code",
   "execution_count": 3,
   "id": "a5b76a54",
   "metadata": {
    "ExecuteTime": {
     "end_time": "2021-10-03T15:59:42.039825Z",
     "start_time": "2021-10-03T15:59:42.025305Z"
    }
   },
   "outputs": [
    {
     "name": "stdout",
     "output_type": "stream",
     "text": [
      "净现值npv = 128.73438\n"
     ]
    }
   ],
   "source": [
    "npv = round(npf.npv(rate,cash_flow),round_num)\n",
    "print(\"净现值npv = {}\".format(npv))"
   ]
  },
  {
   "cell_type": "code",
   "execution_count": 2,
   "id": "ab8d6a37",
   "metadata": {
    "ExecuteTime": {
     "end_time": "2021-10-03T15:59:42.024304Z",
     "start_time": "2021-10-03T15:59:42.009301Z"
    }
   },
   "outputs": [
    {
     "name": "stdout",
     "output_type": "stream",
     "text": [
      "内部收益率IRR = 14.582999999999998%\n",
      "实际年化贷款利率 = 412.2%\n"
     ]
    }
   ],
   "source": [
    "irr = round(npf.irr(cash_flow),round_num)\n",
    "print(\"内部收益率IRR = {}%\".format(irr*100))\n",
    "\n",
    "# 计算年化收益率（复利公式）\n",
    "pa = round((irr+1)**12 - 1,4)\n",
    "print(\"实际年化贷款利率 = {}%\".format(pa*100))"
   ]
  }
 ],
 "metadata": {
  "kernelspec": {
   "display_name": "Python 3",
   "language": "python",
   "name": "python3"
  },
  "language_info": {
   "codemirror_mode": {
    "name": "ipython",
    "version": 3
   },
   "file_extension": ".py",
   "mimetype": "text/x-python",
   "name": "python",
   "nbconvert_exporter": "python",
   "pygments_lexer": "ipython3",
   "version": "3.8.8"
  },
  "toc": {
   "base_numbering": 1,
   "nav_menu": {},
   "number_sections": true,
   "sideBar": true,
   "skip_h1_title": false,
   "title_cell": "Table of Contents",
   "title_sidebar": "Contents",
   "toc_cell": false,
   "toc_position": {},
   "toc_section_display": true,
   "toc_window_display": false
  },
  "varInspector": {
   "cols": {
    "lenName": 16,
    "lenType": 16,
    "lenVar": 40
   },
   "kernels_config": {
    "python": {
     "delete_cmd_postfix": "",
     "delete_cmd_prefix": "del ",
     "library": "var_list.py",
     "varRefreshCmd": "print(var_dic_list())"
    },
    "r": {
     "delete_cmd_postfix": ") ",
     "delete_cmd_prefix": "rm(",
     "library": "var_list.r",
     "varRefreshCmd": "cat(var_dic_list()) "
    }
   },
   "types_to_exclude": [
    "module",
    "function",
    "builtin_function_or_method",
    "instance",
    "_Feature"
   ],
   "window_display": false
  }
 },
 "nbformat": 4,
 "nbformat_minor": 5
}
