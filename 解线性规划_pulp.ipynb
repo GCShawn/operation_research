{
 "cells": [
  {
   "cell_type": "markdown",
   "id": "99270109",
   "metadata": {},
   "source": [
    "# pulp解线性规划"
   ]
  },
  {
   "cell_type": "code",
   "execution_count": 1,
   "id": "9653908b",
   "metadata": {
    "ExecuteTime": {
     "end_time": "2021-10-11T12:39:28.353864Z",
     "start_time": "2021-10-11T12:39:28.323129Z"
    }
   },
   "outputs": [],
   "source": [
    "import pulp"
   ]
  },
  {
   "cell_type": "markdown",
   "id": "6c15d797",
   "metadata": {},
   "source": [
    "## 第一种方法（比较清楚）"
   ]
  },
  {
   "cell_type": "code",
   "execution_count": 2,
   "id": "099bfacf",
   "metadata": {
    "ExecuteTime": {
     "end_time": "2021-10-11T12:39:28.384740Z",
     "start_time": "2021-10-11T12:39:28.354816Z"
    }
   },
   "outputs": [
    {
     "name": "stdout",
     "output_type": "stream",
     "text": [
      "problem_name:\n",
      "MINIMIZE\n",
      "2*x1 + 3*x2 + 1*x3 + 0\n",
      "SUBJECT TO\n",
      "_C1: x1 + 4 x2 + 2 x3 >= 8\n",
      "\n",
      "_C2: 3 x1 + 2 x2 >= 6\n",
      "\n",
      "VARIABLES\n",
      "0 <= x1 Integer\n",
      "0 <= x2 Integer\n",
      "0 <= x3 Integer\n",
      "\n",
      "result: 7.0\n",
      "x1: 2.0\n",
      "x2: 0.0\n",
      "x3: 3.0\n"
     ]
    }
   ],
   "source": [
    "# LpMinimize 最小值 LpMaximize\n",
    "prob = pulp.LpProblem('problem_name', sense=pulp.LpMinimize)\n",
    "\n",
    "# lowBound下限; upBound上限；\n",
    "# cat默认为连续变量，LpInteger离散变量，LpBinary二值变量\n",
    "x1 = pulp.LpVariable('x1', lowBound=0, upBound=None, cat=pulp.LpInteger)\n",
    "x2 = pulp.LpVariable('x2', lowBound=0, upBound=None, cat=pulp.LpInteger)\n",
    "x3 = pulp.LpVariable('x3', lowBound=0, upBound=None, cat=pulp.LpInteger)\n",
    "\n",
    "# 添加目标函数\n",
    "prob += 2*x1 + 3*x2 + x3\n",
    "\n",
    "# 添加约束\n",
    "prob += (x1 + 4*x2 + 2*x3 >= 8)\n",
    "prob += (3*x1 + 2*x2 >= 6)\n",
    "\n",
    "# 打印题目\n",
    "print(prob)\n",
    "\n",
    "# 自动求解\n",
    "prob.solve()\n",
    "\n",
    "# 打印优化结果\n",
    "print(f'result: {pulp.value(prob.objective)}')\n",
    "print(f'x1: {pulp.value(x1)}')\n",
    "print(f'x2: {pulp.value(x2)}')\n",
    "print(f'x3: {pulp.value(x3)}')"
   ]
  },
  {
   "cell_type": "markdown",
   "id": "0cc90ebe",
   "metadata": {},
   "source": [
    "## 第二种方法"
   ]
  },
  {
   "cell_type": "code",
   "execution_count": 3,
   "id": "9acbca3b",
   "metadata": {
    "ExecuteTime": {
     "end_time": "2021-10-11T12:39:28.416065Z",
     "start_time": "2021-10-11T12:39:28.385760Z"
    }
   },
   "outputs": [
    {
     "name": "stdout",
     "output_type": "stream",
     "text": [
      "优化结果：7.0\n",
      "参数取值：[2.0, 0.0, 3.0]\n"
     ]
    }
   ],
   "source": [
    "#目标函数的系数\n",
    "z = [2, 3, 1]\n",
    "#约束\n",
    "a = [[1, 4, 2], [3, 2, 0]]\n",
    "b = [8, 6]\n",
    "#确定最大化最小化问题，最大化只要把Min改成Max即可\n",
    "m = pulp.LpProblem(sense=pulp.LpMinimize)\n",
    "#定义三个变量放到列表中\n",
    "x = [pulp.LpVariable(f'x{i}', lowBound=0) for i in [1,2,3]]\n",
    "#定义目标函数，lpDot可以将两个列表的对应位相乘再加和\n",
    "#相当于z[0]*x[0]+z[1]*x[0]+z[2]*x[2]\n",
    "m += pulp.lpDot(z, x)\n",
    "\n",
    "#设置约束条件\n",
    "for i in range(len(a)):\n",
    "    m += (pulp.lpDot(a[i], x) >= b[i])\n",
    "#求解\n",
    "m.solve()\n",
    "#输出结果\n",
    "print(f'优化结果：{pulp.value(m.objective)}')\n",
    "print(f'参数取值：{[pulp.value(var) for var in x]}')\n",
    "\n",
    "#output:\n",
    "#优化结果：7.0\n",
    "#参数取值：[2.0, 0.0, 3.0]"
   ]
  }
 ],
 "metadata": {
  "kernelspec": {
   "display_name": "Python 3",
   "language": "python",
   "name": "python3"
  },
  "language_info": {
   "codemirror_mode": {
    "name": "ipython",
    "version": 3
   },
   "file_extension": ".py",
   "mimetype": "text/x-python",
   "name": "python",
   "nbconvert_exporter": "python",
   "pygments_lexer": "ipython3",
   "version": "3.8.8"
  },
  "toc": {
   "base_numbering": 1,
   "nav_menu": {},
   "number_sections": true,
   "sideBar": true,
   "skip_h1_title": false,
   "title_cell": "Table of Contents",
   "title_sidebar": "Contents",
   "toc_cell": false,
   "toc_position": {},
   "toc_section_display": true,
   "toc_window_display": false
  },
  "varInspector": {
   "cols": {
    "lenName": 16,
    "lenType": 16,
    "lenVar": 40
   },
   "kernels_config": {
    "python": {
     "delete_cmd_postfix": "",
     "delete_cmd_prefix": "del ",
     "library": "var_list.py",
     "varRefreshCmd": "print(var_dic_list())"
    },
    "r": {
     "delete_cmd_postfix": ") ",
     "delete_cmd_prefix": "rm(",
     "library": "var_list.r",
     "varRefreshCmd": "cat(var_dic_list()) "
    }
   },
   "types_to_exclude": [
    "module",
    "function",
    "builtin_function_or_method",
    "instance",
    "_Feature"
   ],
   "window_display": false
  }
 },
 "nbformat": 4,
 "nbformat_minor": 5
}
